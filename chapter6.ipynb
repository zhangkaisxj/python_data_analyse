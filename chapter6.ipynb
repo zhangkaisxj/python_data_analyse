{
 "cells": [
  {
   "cell_type": "markdown",
   "metadata": {},
   "source": [
    "## 第六章 数据载入、存储及文件格式"
   ]
  },
  {
   "cell_type": "markdown",
   "metadata": {},
   "source": [
    "### 读取文件"
   ]
  },
  {
   "cell_type": "code",
   "execution_count": 13,
   "metadata": {},
   "outputs": [
    {
     "data": {
      "text/html": [
       "<div>\n",
       "<style scoped>\n",
       "    .dataframe tbody tr th:only-of-type {\n",
       "        vertical-align: middle;\n",
       "    }\n",
       "\n",
       "    .dataframe tbody tr th {\n",
       "        vertical-align: top;\n",
       "    }\n",
       "\n",
       "    .dataframe thead th {\n",
       "        text-align: right;\n",
       "    }\n",
       "</style>\n",
       "<table border=\"1\" class=\"dataframe\">\n",
       "  <thead>\n",
       "    <tr style=\"text-align: right;\">\n",
       "      <th></th>\n",
       "      <th>a</th>\n",
       "      <th>b</th>\n",
       "      <th>c</th>\n",
       "      <th>d</th>\n",
       "      <th>e</th>\n",
       "      <th>message</th>\n",
       "    </tr>\n",
       "  </thead>\n",
       "  <tbody>\n",
       "    <tr>\n",
       "      <th>0</th>\n",
       "      <td>1</td>\n",
       "      <td>2</td>\n",
       "      <td>3</td>\n",
       "      <td>4</td>\n",
       "      <td>NaN</td>\n",
       "      <td>hello</td>\n",
       "    </tr>\n",
       "    <tr>\n",
       "      <th>1</th>\n",
       "      <td>5</td>\n",
       "      <td>6</td>\n",
       "      <td>7</td>\n",
       "      <td>8</td>\n",
       "      <td>NaN</td>\n",
       "      <td>world</td>\n",
       "    </tr>\n",
       "    <tr>\n",
       "      <th>2</th>\n",
       "      <td>9</td>\n",
       "      <td>10</td>\n",
       "      <td>11</td>\n",
       "      <td>12</td>\n",
       "      <td>NaN</td>\n",
       "      <td>foo</td>\n",
       "    </tr>\n",
       "  </tbody>\n",
       "</table>\n",
       "</div>"
      ],
      "text/plain": [
       "   a   b   c   d   e message\n",
       "0  1   2   3   4 NaN   hello\n",
       "1  5   6   7   8 NaN   world\n",
       "2  9  10  11  12 NaN     foo"
      ]
     },
     "execution_count": 13,
     "metadata": {},
     "output_type": "execute_result"
    }
   ],
   "source": [
    "import pandas as pd\n",
    "import numpy as np\n",
    "# !type \"C:\\\\Users\\\\zhangkai\\\\Desktop\\\\ex1.csv\"\n",
    "df = pd.read_csv(\"C:\\\\Users\\\\zhangkai\\\\Desktop\\\\ex1.csv\",header=None)\n",
    "df = pd.read_table(\"C:\\\\Users\\\\zhangkai\\\\Desktop\\\\ex1.csv\",sep=\",\")\n",
    "# df = pd.read_csv(\"C:\\\\Users\\\\zhangkai\\\\Desktop\\\\ex1.csv\",names=['a','b','c','d','e',\"message\"],index_col=['e',\"message\"],skiprows=[0,1])\n",
    "df = pd.read_table(\"C:\\\\Users\\\\zhangkai\\\\Desktop\\\\ex1.csv\",sep=\",\",na_values={\"e\":[\"f\"]})\n",
    "df"
   ]
  },
  {
   "cell_type": "markdown",
   "metadata": {},
   "source": [
    "#### 1.正则表达式\"\\\\s+\" - 匹配任意空白字符详解\"\\\\s+\"正则表达式中\\s匹配任何空白字符,包括空格、制表符、换页符等等, 等价于[ \\f\\n\\r\\t\\v]\n",
    "#### 2.跳过指定行 \n",
    "#### 3. na_values传入一个列表 标识缺失值"
   ]
  },
  {
   "cell_type": "markdown",
   "metadata": {},
   "source": [
    "### 分块读取文件与保存文件"
   ]
  },
  {
   "cell_type": "code",
   "execution_count": 29,
   "metadata": {},
   "outputs": [
    {
     "name": "stdout",
     "output_type": "stream",
     "text": [
      "   a  b  c  d   e message\n",
      "0  1  2  3  4 NaN   hello\n",
      "   a  b  c  d  e message\n",
      "1  5  6  7  8  f   world\n",
      "   a   b   c   d  e message\n",
      "2  9  10  11  12  f     foo\n"
     ]
    }
   ],
   "source": [
    "pd.options.display.max_rows=20\n",
    "# df = pd.read_csv(\"C:\\\\Users\\\\zhangkai\\\\Desktop\\\\ex1.csv\",nrows=4)\n",
    "df = pd.read_csv(\"C:\\\\Users\\\\zhangkai\\\\Desktop\\\\ex1.csv\",chunksize=1)\n",
    "# for i in df:\n",
    "#     print(i)\n",
    "# df.to_csv(\"path\",sep=\"\",na_rep=\"\")"
   ]
  },
  {
   "cell_type": "markdown",
   "metadata": {},
   "source": [
    "#### 1.nrows 指定读取的行数\n",
    "#### 2.chunksize 分块读取\n",
    "#### 3.sep 分隔符 na_erp 缺失值标识"
   ]
  },
  {
   "cell_type": "code",
   "execution_count": 25,
   "metadata": {},
   "outputs": [
    {
     "data": {
      "text/plain": [
       "<_csv.reader at 0x1d08578aa70>"
      ]
     },
     "execution_count": 25,
     "metadata": {},
     "output_type": "execute_result"
    }
   ],
   "source": [
    "import csv\n",
    "f = open(\"C:\\\\Users\\\\zhangkai\\\\Desktop\\\\ex1.csv\")\n",
    "reader = csv.reader(f)\n",
    "reader\n",
    "# for i in reader:\n",
    "#     print(i)"
   ]
  },
  {
   "cell_type": "markdown",
   "metadata": {},
   "source": [
    "### 读取json"
   ]
  },
  {
   "cell_type": "code",
   "execution_count": 32,
   "metadata": {},
   "outputs": [
    {
     "data": {
      "text/plain": [
       "'{\"a\":{\"0\":1,\"1\":5,\"2\":9},\"b\":{\"0\":2,\"1\":6,\"2\":10},\"c\":{\"0\":3,\"1\":7,\"2\":11},\"d\":{\"0\":4,\"1\":8,\"2\":12},\"e\":{\"0\":null,\"1\":\"f\",\"2\":\"f\"},\"message\":{\"0\":\"hello\",\"1\":\"world\",\"2\":\"foo\"}}'"
      ]
     },
     "execution_count": 32,
     "metadata": {},
     "output_type": "execute_result"
    }
   ],
   "source": [
    "import json\n",
    "ajson = json.dumps({\"name\":\"helloworld\",\"age\":12})\n",
    "df = pd.read_csv(\"C:\\\\Users\\\\zhangkai\\\\Desktop\\\\ex1.csv\")\n",
    "df.to_json()"
   ]
  },
  {
   "cell_type": "markdown",
   "metadata": {},
   "source": [
    "### xml"
   ]
  },
  {
   "cell_type": "code",
   "execution_count": null,
   "metadata": {},
   "outputs": [],
   "source": []
  }
 ],
 "metadata": {
  "kernelspec": {
   "display_name": "Python 3",
   "language": "python",
   "name": "python3"
  },
  "language_info": {
   "codemirror_mode": {
    "name": "ipython",
    "version": 3
   },
   "file_extension": ".py",
   "mimetype": "text/x-python",
   "name": "python",
   "nbconvert_exporter": "python",
   "pygments_lexer": "ipython3",
   "version": "3.7.0"
  }
 },
 "nbformat": 4,
 "nbformat_minor": 2
}
